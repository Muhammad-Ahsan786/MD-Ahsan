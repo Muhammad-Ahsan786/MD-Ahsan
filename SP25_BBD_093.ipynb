{
 "cells": [
  {
   "cell_type": "markdown",
   "id": "f374cc1e-a4b5-4f9d-9441-39b8f76bd3f0",
   "metadata": {},
   "source": [
    "# LIST ITERATION :"
   ]
  },
  {
   "cell_type": "code",
   "execution_count": 3,
   "id": "3699a7b4-37eb-466d-80e3-f0a053cf1d27",
   "metadata": {},
   "outputs": [
    {
     "name": "stdout",
     "output_type": "stream",
     "text": [
      "['The Mysterious Note', 'I Believe', 'The Magiacal Book', 'Fighter']\n"
     ]
    }
   ],
   "source": [
    "\n",
    "# Step 1 : CREATE A LIST OF YOUR FAVOURITE MOVIES \n",
    "Favorite_movies = [\"The Mysterious Note\", \"I Believe\", \"The Magiacal Book\", \"Fighter\"]\n",
    "print(Favorite_movies)"
   ]
  },
  {
   "cell_type": "code",
   "execution_count": 4,
   "id": "a454d563-9838-482f-ab57-c82a8ad4154a",
   "metadata": {},
   "outputs": [
    {
     "name": "stdout",
     "output_type": "stream",
     "text": [
      "The Mysterious Note\n",
      "I Believe\n",
      "The Magiacal Book\n",
      "Fighter\n"
     ]
    }
   ],
   "source": [
    "# Step 2 : Iterate over the list and print each movie title\n",
    "for movie in Favorite_movies:\n",
    "    print(movie)"
   ]
  },
  {
   "cell_type": "code",
   "execution_count": 8,
   "id": "11426134-ef35-45a2-99dd-94d8d0e7842e",
   "metadata": {},
   "outputs": [
    {
     "name": "stdout",
     "output_type": "stream",
     "text": [
      " 0: The Mysterious Note\n",
      " 1: I Believe\n",
      " 2: The Magiacal Book\n",
      " 3: Fighter\n"
     ]
    }
   ],
   "source": [
    "# step 3 : Iterate using range() to get the index and access the movie\n",
    "for i in range(len(Favorite_movies)):\n",
    "    print(f\" {i}: {Favorite_movies[i]}\")"
   ]
  },
  {
   "cell_type": "markdown",
   "id": "4cdd6bb6-cbb5-4049-b69e-8edcc39653d5",
   "metadata": {},
   "source": [
    "# STRING ITERATION :"
   ]
  },
  {
   "cell_type": "code",
   "execution_count": 10,
   "id": "0326089c-27d4-4977-a8e9-0c72de248cca",
   "metadata": {},
   "outputs": [],
   "source": [
    "# Step 1: Create a string variable containing your full name\n",
    "Full_name = \"Muhammad Ahsan\""
   ]
  },
  {
   "cell_type": "code",
   "execution_count": 12,
   "id": "7f62d728-d4df-462c-87fe-c9eb18995bb2",
   "metadata": {},
   "outputs": [
    {
     "name": "stdout",
     "output_type": "stream",
     "text": [
      "M\n",
      "u\n",
      "h\n",
      "a\n",
      "m\n",
      "m\n",
      "a\n",
      "d\n",
      " \n",
      "A\n",
      "h\n",
      "s\n",
      "a\n",
      "n\n"
     ]
    }
   ],
   "source": [
    "# Step 2: Iterate over the string and print each character on a new line\n",
    "for char in Full_name:\n",
    "    print(char)"
   ]
  },
  {
   "cell_type": "code",
   "execution_count": 14,
   "id": "ccc8e1ac-dc26-4e78-8862-e8f5a7437320",
   "metadata": {},
   "outputs": [
    {
     "name": "stdout",
     "output_type": "stream",
     "text": [
      "Number of vowels in the name: 14\n"
     ]
    }
   ],
   "source": [
    "# Step 3: Count the number of vowels in the string using a basic for loop\n",
    "vowels = \"Muhammad Ahsan\"\n",
    "vowel_count = 0\n",
    "for char in Full_name:\n",
    "    if char in vowels:\n",
    "        vowel_count += 1\n",
    "\n",
    "print(f\"Number of vowels in the name: {vowel_count}\")"
   ]
  }
 ],
 "metadata": {
  "kernelspec": {
   "display_name": "Python 3 (ipykernel)",
   "language": "python",
   "name": "python3"
  },
  "language_info": {
   "codemirror_mode": {
    "name": "ipython",
    "version": 3
   },
   "file_extension": ".py",
   "mimetype": "text/x-python",
   "name": "python",
   "nbconvert_exporter": "python",
   "pygments_lexer": "ipython3",
   "version": "3.12.7"
  }
 },
 "nbformat": 4,
 "nbformat_minor": 5
}
